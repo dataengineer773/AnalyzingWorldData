{
 "cells": [
  {
   "cell_type": "code",
   "execution_count": null,
   "id": "a91cec61-ed42-4fc8-9cf7-0a9ddf8e7f23",
   "metadata": {},
   "outputs": [],
   "source": [
    "%matplotlib inline\n",
    "\n",
    "import matplotlib.pyplot as plt\n",
    "import numpy as np\n",
    "import pandas as pd\n",
    "import seaborn as sns"
   ]
  },
  {
   "cell_type": "code",
   "execution_count": null,
   "id": "c9d56099-628f-4dcb-9a90-dbd91c2ddd6f",
   "metadata": {},
   "outputs": [],
   "source": [
    "planets = pd.read_csv('planet.csv')"
   ]
  },
  {
   "cell_type": "code",
   "execution_count": null,
   "id": "5b29711f-5dcc-4dea-83a0-69fc9bc76d4e",
   "metadata": {},
   "outputs": [],
   "source": [
    "planets.head()"
   ]
  },
  {
   "cell_type": "markdown",
   "id": "2d340ece-9323-48d1-8f15-8e485b59d957",
   "metadata": {},
   "source": [
    "Looking for correlated features"
   ]
  },
  {
   "cell_type": "code",
   "execution_count": null,
   "id": "7f50b3f1-6d89-4fa1-b67a-ba06b6569650",
   "metadata": {},
   "outputs": [],
   "source": [
    "fig = plt.figure(figsize=(7, 7))\n",
    "numeric_planets = planets.select_dtypes(include=['number'])  # Select only numeric columns\n",
    "sns.heatmap(\n",
    "    numeric_planets.corr(), \n",
    "    center=0, square=True, annot=True\n",
    ")"
   ]
  },
  {
   "cell_type": "markdown",
   "id": "ce369922-bfc8-4040-8c3a-f63103fc83a0",
   "metadata": {},
   "source": [
    "Looking at Orbit shape"
   ]
  },
  {
   "cell_type": "code",
   "execution_count": null,
   "id": "2e4f47ca-b3f2-40ea-acff-eecfa83b59b1",
   "metadata": {},
   "outputs": [],
   "source": [
    "planets.eccentricity.hist()\n",
    "plt.xlabel('eccentricity')\n",
    "plt.ylabel('frequency')\n",
    "plt.title('Exoplanet Eccentricities')"
   ]
  },
  {
   "cell_type": "code",
   "execution_count": null,
   "id": "d8e46b0f-831f-456c-908b-170d8d6b6a70",
   "metadata": {},
   "outputs": [],
   "source": [
    "planets.eccentricity.min(), planets.eccentricity.max()"
   ]
  },
  {
   "cell_type": "markdown",
   "id": "599ce60e-1c5e-4efe-89e5-997a45894cd9",
   "metadata": {},
   "source": [
    "Understanding the semi-major axis"
   ]
  },
  {
   "cell_type": "code",
   "execution_count": null,
   "id": "bba8c5e7-ffbc-4ed9-97b0-7952e1e33761",
   "metadata": {},
   "outputs": [],
   "source": [
    "from matplotlib.patches import Ellipse\n",
    "\n",
    "fig, axes = plt.subplots(1, 1)\n",
    "orbit = Ellipse(xy=(0, 0), width=2, height=1.5, facecolor='lightblue')\n",
    "axes.add_artist(orbit)\n",
    "axes.plot([-1, 0], [0, 0])\n",
    "axes.annotate(\n",
    "    'semi-major axis', \n",
    "    xy=(-0.5, 0), \n",
    "    xytext=(-0.8, -0.2), \n",
    "    arrowprops=dict(arrowstyle='wedge')\n",
    ")\n",
    "axes.annotate(\n",
    "    'orbit center', \n",
    "    xy=(0, 0), \n",
    "    xytext=(-0.21, 0.115), \n",
    "    arrowprops=dict(arrowstyle='wedge')\n",
    ")\n",
    "plt.plot(\n",
    "    [-.75], [0.5], \n",
    "    marker='o', markersize=4, \n",
    "    color='green', label='planet'\n",
    ")\n",
    "plt.plot(\n",
    "    [0], [0], \n",
    "    marker='o', markersize=10, \n",
    "    color='orange', label='star'\n",
    ")\n",
    "plt.xlim(-1.25, 1.25)\n",
    "plt.ylim(-1.25, 1.25)\n",
    "plt.legend()"
   ]
  },
  {
   "cell_type": "markdown",
   "id": "51afafda-716a-4cca-90f2-1dca82f51824",
   "metadata": {},
   "source": [
    "Checking data values"
   ]
  },
  {
   "cell_type": "code",
   "execution_count": null,
   "id": "d7afeb12-a203-479d-8e88-01d0206d5997",
   "metadata": {},
   "outputs": [],
   "source": [
    "planets[['period', 'eccentricity', 'semimajoraxis', 'mass']].info()"
   ]
  },
  {
   "cell_type": "code",
   "execution_count": null,
   "id": "c2023b9d-e2ed-4b32-903a-f38b2a7c0b50",
   "metadata": {},
   "outputs": [],
   "source": [
    "planets[['period', 'eccentricity', 'semimajoraxis', 'mass']].dropna().shape"
   ]
  },
  {
   "cell_type": "code",
   "execution_count": null,
   "id": "d3147547-89a3-41c0-b6ec-7f8cc4620f87",
   "metadata": {},
   "outputs": [],
   "source": [
    "planets[['period', 'eccentricity', 'semimajoraxis', 'mass']].describe()"
   ]
  },
  {
   "cell_type": "markdown",
   "id": "2c210015-7521-4155-8edb-5c2dde050184",
   "metadata": {},
   "source": [
    "Visualizing Year and Orbit Length"
   ]
  },
  {
   "cell_type": "code",
   "execution_count": null,
   "id": "a1e6cb9e-7828-4130-bd99-f1ce6de605c0",
   "metadata": {},
   "outputs": [],
   "source": [
    "ax = sns.scatterplot(x=planets.semimajoraxis, y=planets.period, hue=planets.list, alpha=0.5)\n",
    "plt.title('Period vs. Semimajoraxis')\n",
    "ax.legend(bbox_to_anchor=(1, 0.77))  # move legend to the right of the plot\n"
   ]
  },
  {
   "cell_type": "code",
   "execution_count": null,
   "id": "9e396f4b-a32e-49a3-a28a-dfddf5611c0f",
   "metadata": {},
   "outputs": [],
   "source": [
    "fig, axes = plt.subplots(1, 1, figsize=(10, 10))\n",
    "in_solar_system = (planets.list == 'Solar System').rename('in solar system?')\n",
    "ax = sns.scatterplot(\n",
    "    x=planets.semimajoraxis,  # Pass as a keyword argument\n",
    "    y=planets.period,         # Pass as a keyword argument\n",
    "    hue=in_solar_system,\n",
    "    ax=axes\n",
    ")\n",
    "ax.set_yscale('log')\n",
    "solar_system = planets[planets.list == 'Solar System']\n",
    "for planet in solar_system.name:\n",
    "    data = solar_system.query(f'name == \"{planet}\"')\n",
    "    ax.annotate(\n",
    "        planet, \n",
    "        (data.semimajoraxis, data.period), \n",
    "        (7 + data.semimajoraxis, data.period),\n",
    "        arrowprops=dict(arrowstyle='->')\n",
    "    )\n",
    "ax.set_title('log(orbital period) vs. semi-major axis')\n"
   ]
  },
  {
   "cell_type": "markdown",
   "id": "4412b6d4-8b8f-451a-94a3-798bc4840ca6",
   "metadata": {},
   "source": [
    "Finding Similar Planets with k-Means Clustering"
   ]
  },
  {
   "cell_type": "code",
   "execution_count": null,
   "id": "9de8f1c1-f268-4b40-be74-4f09be740dba",
   "metadata": {},
   "outputs": [],
   "source": [
    "from sklearn.cluster import KMeans\n",
    "from sklearn.pipeline import Pipeline\n",
    "from sklearn.preprocessing import StandardScaler\n",
    "\n",
    "kmeans_pipeline = Pipeline(\n",
    "    [\n",
    "        ('scale', StandardScaler()), \n",
    "        ('kmeans', KMeans(8, random_state=0))\n",
    "    ]\n",
    ")"
   ]
  },
  {
   "cell_type": "code",
   "execution_count": null,
   "id": "5b7b6f5a-b363-4024-aaaa-251cfd40da05",
   "metadata": {},
   "outputs": [],
   "source": [
    "kmeans_data = planets[['semimajoraxis', 'period']].dropna()\n",
    "kmeans_pipeline.fit(kmeans_data)"
   ]
  },
  {
   "cell_type": "code",
   "execution_count": null,
   "id": "881b9eda-e5ea-4f8d-b0b8-077b2b20c21b",
   "metadata": {},
   "outputs": [],
   "source": [
    "fig, axes = plt.subplots(1, 1, figsize=(7, 7))\n",
    "ax = sns.scatterplot(\n",
    "    x=kmeans_data.semimajoraxis,  # Use 'x' as the keyword argument\n",
    "    y=kmeans_data.period,         # Use 'y' as the keyword argument\n",
    "    hue=kmeans_pipeline.predict(kmeans_data),\n",
    "    ax=axes, palette='Accent'\n",
    ")\n",
    "ax.set_yscale('log')\n",
    "solar_system = planets[planets.list == 'Solar System']\n",
    "for planet in solar_system.name:\n",
    "    data = solar_system.query(f'name == \"{planet}\"')\n",
    "    ax.annotate(\n",
    "        planet, \n",
    "        (data.semimajoraxis, data.period), \n",
    "        (7 + data.semimajoraxis, data.period),\n",
    "        arrowprops=dict(arrowstyle='->')\n",
    "    )\n",
    "ax.get_legend().remove()\n",
    "ax.set_title('KMeans Clusters')\n"
   ]
  },
  {
   "cell_type": "code",
   "execution_count": null,
   "id": "3feb0565-656a-419a-bef1-e89ba0bac980",
   "metadata": {},
   "outputs": [],
   "source": [
    "import matplotlib.pyplot as plt\n",
    "from sklearn.cluster import KMeans\n",
    "\n",
    "import numpy as np\n",
    "\n",
    "def elbow_point(X):\n",
    "    wcss = []  # List to hold within-cluster sum of squares (WCSS)\n",
    "    for k in range(1, 11):  # Test for k = 1 to k = 10\n",
    "        kmeans = KMeans(n_clusters=k, random_state=0)\n",
    "        kmeans.fit(X)\n",
    "        wcss.append(kmeans.inertia_)  # Inertia is WCSS\n",
    "\n",
    "    # Plot the elbow curve\n",
    "    plt.plot(range(1, 11), wcss)\n",
    "    plt.title('Elbow Method For Optimal k')\n",
    "    plt.xlabel('Number of clusters (k)')\n",
    "    plt.ylabel('WCSS')\n",
    "    plt.show()\n",
    "\n",
    "# Example usage\n",
    "elbow_point(kmeans_data)"
   ]
  },
  {
   "cell_type": "code",
   "execution_count": null,
   "id": "2989dc47-383f-44cf-ab60-dc90f1ae9766",
   "metadata": {},
   "outputs": [],
   "source": [
    "kmeans_pipeline_2 = Pipeline(\n",
    "    [\n",
    "        ('scale', StandardScaler()), \n",
    "        ('kmeans', KMeans(2, random_state=0))\n",
    "    ]\n",
    ").fit(kmeans_data)\n",
    "\n",
    "fig, axes = plt.subplots(1, 1, figsize=(7, 7))\n",
    "\n",
    "# Correct way to pass the data to scatterplot() by using 'x' and 'y' as keyword arguments\n",
    "ax = sns.scatterplot(\n",
    "    x=kmeans_data.semimajoraxis,  # Pass 'x' as a keyword argument\n",
    "    y=kmeans_data.period,         # Pass 'y' as a keyword argument\n",
    "    hue=kmeans_pipeline_2.predict(kmeans_data),\n",
    "    ax=axes, palette='Accent'\n",
    ")\n",
    "\n",
    "ax.set_yscale('log')\n",
    "\n",
    "# Annotate planets in the solar system\n",
    "solar_system = planets[planets.list == 'Solar System']\n",
    "for planet in solar_system.name:\n",
    "    data = solar_system.query(f'name == \"{planet}\"')\n",
    "    ax.annotate(\n",
    "        planet, \n",
    "        (data.semimajoraxis, data.period), \n",
    "        (7 + data.semimajoraxis, data.period),\n",
    "        arrowprops=dict(arrowstyle='->')\n",
    "    )\n",
    "\n",
    "ax.get_legend().remove()\n",
    "ax.set_title('KMeans Clusters')"
   ]
  },
  {
   "cell_type": "markdown",
   "id": "1e0e80ca-7901-472e-b9ff-ec36d65c52ec",
   "metadata": {},
   "source": [
    "Visualizing the cluster space"
   ]
  },
  {
   "cell_type": "code",
   "execution_count": null,
   "id": "506310d1-4c01-429c-a65d-3af0bbca058e",
   "metadata": {},
   "outputs": [],
   "source": [
    "kmeans_pipeline_2.named_steps['kmeans'].cluster_centers_"
   ]
  },
  {
   "cell_type": "code",
   "execution_count": null,
   "id": "6e81b869-0ae1-4de8-916c-43624dce6fe7",
   "metadata": {},
   "outputs": [],
   "source": [
    "# set up layout\n",
    "fig = plt.figure(figsize=(8, 6))\n",
    "outside = fig.add_axes([0.1, 0.1, 0.9, 0.9])\n",
    "inside = fig.add_axes([0.6, 0.2, 0.35, 0.35])\n",
    "\n",
    "# scaled data and cluster distance data\n",
    "scaled = kmeans_pipeline_2.named_steps['scale'].fit_transform(\n",
    "    kmeans_data\n",
    ")\n",
    "cluster_distances = kmeans_pipeline_2.fit_transform(\n",
    "    kmeans_data\n",
    ")\n",
    "\n",
    "for ax, data, title, axes_labels in zip(\n",
    "    [outside, inside], [scaled, cluster_distances],  \n",
    "    ['Visualizing Clusters', 'Cluster Distance Space'], \n",
    "    ['standardized', 'distance to centroid']\n",
    "):\n",
    "    ax = sns.scatterplot(\n",
    "        x=data[:, 0],  # Pass 'x' as a keyword argument\n",
    "        y=data[:, 1],  # Pass 'y' as a keyword argument\n",
    "        ax=ax, \n",
    "        palette='Accent', \n",
    "        alpha=0.5,\n",
    "        hue=kmeans_pipeline_2.named_steps['kmeans'].labels_, \n",
    "        s=100\n",
    "    )\n",
    "\n",
    "    ax.get_legend().remove()\n",
    "    ax.set_title(title)\n",
    "    ax.set_xlabel(f'semimajoraxis ({axes_labels})')\n",
    "    ax.set_ylabel(f'period ({axes_labels})')\n",
    "    ax.set_ylim(-1, None)\n",
    "    \n",
    "# add the centroids to the outside plot\n",
    "cluster_centers = kmeans_pipeline_2.named_steps['kmeans']\\\n",
    "                    .cluster_centers_\n",
    "for color, centroid in zip(['green', 'purple'], cluster_centers):\n",
    "    outside.plot(*centroid, color=color, marker='x')\n",
    "    outside.annotate(\n",
    "        f'{color} center', xy=centroid, xytext=centroid + [0, 5], \n",
    "        arrowprops=dict(arrowstyle='->')\n",
    "    )\n"
   ]
  },
  {
   "cell_type": "markdown",
   "id": "39670055-45a1-483a-a341-15e60a2d45da",
   "metadata": {},
   "source": [
    "Evaluation of model\n",
    "There are many metrics to choose from, but since we don't know the true labels of our data, we can only use unsupervised ones. We will use a few different metrics to get a more well-rounded view of our performance:\n",
    "\n",
    "Silhouette Score\n",
    "true labels not known\n",
    "higher = better defined (more separated) clusters\n",
    "-1 is worst, 1 is best, near 0 indicates overlapping clusters"
   ]
  },
  {
   "cell_type": "code",
   "execution_count": null,
   "id": "294b2d67-276e-4486-9ac6-c1cfefdcdf99",
   "metadata": {},
   "outputs": [],
   "source": [
    "from sklearn.metrics import silhouette_score\n",
    "silhouette_score(kmeans_data, kmeans_pipeline.predict(kmeans_data)) "
   ]
  },
  {
   "cell_type": "markdown",
   "id": "f81dd45a-c556-45df-aa9b-f078f8160624",
   "metadata": {},
   "source": [
    "Davies-Bouldin Score\n",
    "true labels not known\n",
    "ratio of within-cluster distances to between-cluster distances\n",
    "zero is best parition"
   ]
  },
  {
   "cell_type": "code",
   "execution_count": null,
   "id": "925bfe33-df22-4e7f-8273-2cbe540a73f7",
   "metadata": {},
   "outputs": [],
   "source": [
    "from sklearn.metrics import davies_bouldin_score\n",
    "davies_bouldin_score(kmeans_data, kmeans_pipeline.predict(kmeans_data)) "
   ]
  },
  {
   "cell_type": "markdown",
   "id": "f5695e9d-3b3e-455f-986f-b75b8715e8a4",
   "metadata": {},
   "source": [
    "Calinski and Harabaz Score\n",
    "true labels not known\n",
    "higher = better defined (more separated) clusters"
   ]
  },
  {
   "cell_type": "code",
   "execution_count": null,
   "id": "7d4ba886-a8a4-4715-a379-6e70ec346c45",
   "metadata": {},
   "outputs": [],
   "source": [
    "from sklearn.metrics import calinski_harabasz_score\n",
    "\n",
    "# Assuming kmeans_data and kmeans_pipeline are properly defined\n",
    "score = calinski_harabasz_score(kmeans_data, kmeans_pipeline.predict(kmeans_data))\n",
    "print(score)\n"
   ]
  },
  {
   "cell_type": "markdown",
   "id": "46d3c087-e215-466b-a1f6-6017b67d40e1",
   "metadata": {},
   "source": [
    "Predicting Length of Year in Earth Days (Period)\n",
    "separate x and y data, dropping nulls\n",
    "create the training and testing sets\n",
    "train a linear regression model (no pipeline since we want to interpret the coefficients)\n",
    "isolate the coefficients from the model\n",
    "evaluate the model"
   ]
  },
  {
   "cell_type": "code",
   "execution_count": null,
   "id": "6de23230-b1c0-4e2e-ade0-1b1d28bc7c72",
   "metadata": {},
   "outputs": [],
   "source": [
    "from sklearn.model_selection import train_test_split\n",
    "from sklearn.linear_model import LinearRegression\n",
    "\n",
    "# 1\n",
    "data = planets[\n",
    "    ['semimajoraxis', 'period', 'mass', 'eccentricity']\n",
    "].dropna()\n",
    "X = data[['semimajoraxis', 'mass', 'eccentricity']]\n",
    "y = data.period\n",
    "\n",
    "# 2\n",
    "X_train, X_test, y_train, y_test = train_test_split(\n",
    "    X, y, test_size=0.25, random_state=0\n",
    ")"
   ]
  },
  {
   "cell_type": "code",
   "execution_count": null,
   "id": "7ff2850a-1748-4c0c-9304-a366d451796e",
   "metadata": {},
   "outputs": [],
   "source": [
    "# Linear Regression:\n",
    "lm = LinearRegression().fit(X_train, y_train)"
   ]
  },
  {
   "cell_type": "code",
   "execution_count": null,
   "id": "20fc47b7-e1a2-432a-bef8-0793d9862e86",
   "metadata": {},
   "outputs": [],
   "source": [
    "# Get equation :\n",
    "# get intercept\n",
    "lm.intercept_"
   ]
  },
  {
   "cell_type": "code",
   "execution_count": null,
   "id": "ad639a9c-933a-4679-8e0a-1341c9a558a4",
   "metadata": {},
   "outputs": [],
   "source": [
    "# 4. get coefficients\n",
    "[(col, coef) for col, coef in zip(X_train.columns, lm.coef_)]"
   ]
  },
  {
   "cell_type": "code",
   "execution_count": null,
   "id": "a17e2a49-abeb-40cd-b86a-97a9343838a7",
   "metadata": {},
   "outputs": [],
   "source": [
    "# Evaluation of model :\n",
    "# 5\n",
    "preds = lm.predict(X_test)\n",
    "np.corrcoef(y_test, preds)[0][1]"
   ]
  },
  {
   "cell_type": "code",
   "execution_count": null,
   "id": "b785a090-a795-45f4-bbd1-cca75f28204c",
   "metadata": {},
   "outputs": [],
   "source": [
    "fig, axes = plt.subplots(1, 1, figsize=(5, 3))\n",
    "axes.plot(X_test.semimajoraxis, y_test, 'bo', label='actuals', alpha=0.5)\n",
    "axes.plot(X_test.semimajoraxis, preds, 'ro', label='predictions', alpha=0.5)\n",
    "plt.xlabel('semimajoraxis')\n",
    "plt.ylabel('period')\n",
    "plt.legend()\n",
    "plt.suptitle('Linear Regression')"
   ]
  },
  {
   "cell_type": "code",
   "execution_count": null,
   "id": "e3bdc444-59ed-4ed6-8c3c-83d229bcf627",
   "metadata": {},
   "outputs": [],
   "source": [
    "# R-squared :\n",
    "lm.score(X_test, y_test)"
   ]
  },
  {
   "cell_type": "code",
   "execution_count": null,
   "id": "97f29a53-2846-4da8-b602-9cf4ca80c15c",
   "metadata": {},
   "outputs": [],
   "source": [
    "from sklearn.metrics import r2_score\n",
    "r2_score(y_test, preds)"
   ]
  },
  {
   "cell_type": "code",
   "execution_count": null,
   "id": "5955e3ad-073e-4e14-af5a-6d4ed66d843d",
   "metadata": {},
   "outputs": [],
   "source": [
    "# Anscombe's Quartet\n",
    "# All four data sets have the same summary statistics (mean, standard deviation, correlation coefficient), despite having different data:\n",
    "anscombe = sns.load_dataset('anscombe').groupby('dataset')\n",
    "anscombe.describe()"
   ]
  },
  {
   "cell_type": "code",
   "execution_count": null,
   "id": "f8048a29-46c8-4582-ae3f-a90b5638dc8c",
   "metadata": {},
   "outputs": [],
   "source": [
    "# When fitted with a regression line, they all have the same R-squared despite some of them not indicating a linear relationship between x and y:\n",
    "from sklearn.metrics import r2_score\n",
    "\n",
    "fig, axes = plt.subplots(2, 2, figsize=(12, 12))\n",
    "axes = axes.flatten()\n",
    "titles = ['linear', 'non-linear', 'linear with outlier', 'vertical with outlier']\n",
    "\n",
    "for ax, (group_name, group_data), title in zip(axes, anscombe, titles):\n",
    "    x, y = group_data.x, group_data.y\n",
    "    ax.scatter(x, y)\n",
    "    ax.set_title(f'{group_name} - {title}')\n",
    "    ax.set_xlabel('x')\n",
    "    ax.set_ylabel('y')\n",
    "    ax.set_xlim((3, 19.5))\n",
    "    ax.set_ylim((2, 13))\n",
    "    \n",
    "    # get regression line\n",
    "    m, b = np.polyfit(x, y, 1)\n",
    "    reg_x = np.append([0, 20], x)\n",
    "    reg_y = [m*num + b for num in reg_x]\n",
    "    ax.plot(reg_x, reg_y, 'r--')\n",
    "    ax.annotate(\n",
    "        f\"\"\"ρ = {np.corrcoef(x,y)[0][1]:.2}\\ny = {m:.2}x + {b:.2}\\n\\n{\n",
    "            r'$R^2$'\n",
    "        } = {r2_score(y, [m*num + b for num in x]):.2}\\n\\n{\n",
    "            r'$μ_x$'\n",
    "        } = {np.mean(x):2} | {\n",
    "            r'$σ_x$'\n",
    "        } = {np.std(x):.2}\\n{\n",
    "            r'$μ_y$'\n",
    "        } = {np.mean(y):.2} | {r'$σ_y$'} = {np.std(y):.2}\"\"\", xy=(13, 2.5)\n",
    "    )\n",
    "plt.suptitle(\"Anscombe's Quartet\", fontsize=16, y=0.95)"
   ]
  },
  {
   "cell_type": "markdown",
   "id": "47d1b033-e1cb-4eb4-a0d3-b1a8ec9761ae",
   "metadata": {},
   "source": [
    "Explained Variance"
   ]
  },
  {
   "cell_type": "code",
   "execution_count": null,
   "id": "cbe0be69-5736-47c1-beca-814ea01165b2",
   "metadata": {},
   "outputs": [],
   "source": [
    "from sklearn.metrics import explained_variance_score\n",
    "explained_variance_score(y_test, preds)"
   ]
  },
  {
   "cell_type": "markdown",
   "id": "185acec8-0329-413e-8e40-5f77fd4fa55b",
   "metadata": {},
   "source": [
    "Mean Absolute Error (MAE)"
   ]
  },
  {
   "cell_type": "code",
   "execution_count": null,
   "id": "14300ebe-3238-4d21-98dc-526356b19b34",
   "metadata": {},
   "outputs": [],
   "source": [
    "from sklearn.metrics import mean_absolute_error\n",
    "mean_absolute_error(y_test, preds)"
   ]
  },
  {
   "cell_type": "markdown",
   "id": "0850c64a-ad4d-463b-95b4-e1d0db4349d3",
   "metadata": {},
   "source": [
    "Root Mean Squared Error (RMSE)"
   ]
  },
  {
   "cell_type": "code",
   "execution_count": null,
   "id": "ffebf25f-6dec-4408-bf29-7b352c0c797d",
   "metadata": {},
   "outputs": [],
   "source": [
    "from sklearn.metrics import mean_squared_error\n",
    "np.sqrt(mean_squared_error(y_test, preds))"
   ]
  },
  {
   "cell_type": "markdown",
   "id": "0fa90c8b-848a-4976-a6f4-1deb0a009e65",
   "metadata": {},
   "source": [
    "Median Absolute Error"
   ]
  },
  {
   "cell_type": "code",
   "execution_count": null,
   "id": "6e87630c-51ce-46e0-9335-99d194ea1f77",
   "metadata": {},
   "outputs": [],
   "source": [
    "from sklearn.metrics import median_absolute_error\n",
    "median_absolute_error(y_test, preds)"
   ]
  },
  {
   "cell_type": "code",
   "execution_count": null,
   "id": "65d1d76a-ce25-44bc-90e3-e9b904bc7e05",
   "metadata": {},
   "outputs": [],
   "source": []
  }
 ],
 "metadata": {
  "kernelspec": {
   "display_name": "Python 3 (ipykernel)",
   "language": "python",
   "name": "python3"
  },
  "language_info": {
   "codemirror_mode": {
    "name": "ipython",
    "version": 3
   },
   "file_extension": ".py",
   "mimetype": "text/x-python",
   "name": "python",
   "nbconvert_exporter": "python",
   "pygments_lexer": "ipython3",
   "version": "3.10.12"
  }
 },
 "nbformat": 4,
 "nbformat_minor": 5
}
